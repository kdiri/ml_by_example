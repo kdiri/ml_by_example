{
 "cells": [
  {
   "cell_type": "code",
   "execution_count": 3,
   "metadata": {},
   "outputs": [],
   "source": [
    "from sklearn.datasets import fetch_20newsgroups\n",
    "from sklearn.feature_extraction.text import TfidfVectorizer\n",
    "from sklearn.svm import SVC\n",
    "from nltk.corpus import names\n",
    "from nltk.stem import WordNetLemmatizer\n",
    "\n",
    "tfidf_vectorizer = TfidfVectorizer(sublinear_tf=True, max_df=0.5, stop_words='english', max_features=8000)\n",
    "svm = SVC(kernel='linear', C=1.0, random_state=42)\n",
    "all_names = set(names.words())\n",
    "emails, labels = [], []\n",
    "lemmatizer = WordNetLemmatizer()\n",
    "\n",
    "def letters_only(astr): \n",
    "    return astr.isalpha()\n",
    "\n",
    "def clean_text(docs):\n",
    "    cleaned_docs = []\n",
    "    for doc in docs:\n",
    "        cleaned_docs.append(' '.join(lemmatizer.lemmatize(word.lower()) for word in doc.split()\n",
    "                             if letters_only(word) and word not in all_names))\n",
    "        #lowercase everything, isalpha does number and punc. removal, not in all_names removes words\n",
    "    return cleaned_docs\n",
    "\n",
    "categories = [\n",
    "    \"alt.atheism\",\n",
    "    \"talk.religion.misc\",\n",
    "    \"comp.graphics\",\n",
    "    \"sci.space\",\n",
    "    \"rec.sport.hockey\"\n",
    "]\n",
    "\n",
    "data_train = fetch_20newsgroups(subset='train', categories=categories, random_state=42)\n",
    "data_test = fetch_20newsgroups(subset='test', categories=categories, random_state=42)\n",
    "cleaned_train = clean_text(data_train.data)\n",
    "label_train = data_train.target\n",
    "cleaned_test = clean_text(data_test.data)\n",
    "label_test = data_test.target\n",
    "term_docs_train = tfidf_vectorizer.fit_transform(cleaned_train)\n",
    "term_docs_test = tfidf_vectorizer.transform(cleaned_test)"
   ]
  },
  {
   "cell_type": "code",
   "execution_count": 4,
   "metadata": {},
   "outputs": [
    {
     "data": {
      "text/plain": [
       "SVC(C=1.0, cache_size=200, class_weight=None, coef0=0.0,\n",
       "    decision_function_shape='ovr', degree=3, gamma='auto_deprecated',\n",
       "    kernel='linear', max_iter=-1, probability=False, random_state=42,\n",
       "    shrinking=True, tol=0.001, verbose=False)"
      ]
     },
     "execution_count": 4,
     "metadata": {},
     "output_type": "execute_result"
    }
   ],
   "source": [
    "svm.fit(term_docs_train, label_train)"
   ]
  },
  {
   "cell_type": "code",
   "execution_count": 5,
   "metadata": {},
   "outputs": [],
   "source": [
    "accuracy = svm.score(term_docs_test, label_test)"
   ]
  },
  {
   "cell_type": "code",
   "execution_count": 6,
   "metadata": {},
   "outputs": [
    {
     "data": {
      "text/plain": [
       "0.8864155251141552"
      ]
     },
     "execution_count": 6,
     "metadata": {},
     "output_type": "execute_result"
    }
   ],
   "source": [
    "accuracy"
   ]
  },
  {
   "cell_type": "code",
   "execution_count": 7,
   "metadata": {},
   "outputs": [
    {
     "data": {
      "text/plain": [
       "'              precision    recall  f1-score   support\\n\\n           0       0.81      0.77      0.79       319\\n           1       0.91      0.94      0.93       389\\n           2       0.98      0.96      0.97       399\\n           3       0.93      0.93      0.93       394\\n           4       0.73      0.76      0.74       251\\n\\n    accuracy                           0.89      1752\\n   macro avg       0.87      0.87      0.87      1752\\nweighted avg       0.89      0.89      0.89      1752\\n'"
      ]
     },
     "execution_count": 7,
     "metadata": {},
     "output_type": "execute_result"
    }
   ],
   "source": [
    "from sklearn.metrics import classification_report\n",
    "prediction = svm.predict(term_docs_test)\n",
    "report = classification_report(label_test, prediction)\n",
    "report"
   ]
  },
  {
   "cell_type": "code",
   "execution_count": 8,
   "metadata": {},
   "outputs": [
    {
     "name": "stdout",
     "output_type": "stream",
     "text": [
      "              precision    recall  f1-score   support\n",
      "\n",
      "           0       0.81      0.77      0.79       319\n",
      "           1       0.91      0.94      0.93       389\n",
      "           2       0.98      0.96      0.97       399\n",
      "           3       0.93      0.93      0.93       394\n",
      "           4       0.73      0.76      0.74       251\n",
      "\n",
      "    accuracy                           0.89      1752\n",
      "   macro avg       0.87      0.87      0.87      1752\n",
      "weighted avg       0.89      0.89      0.89      1752\n",
      "\n"
     ]
    }
   ],
   "source": [
    "print(report)"
   ]
  },
  {
   "cell_type": "code",
   "execution_count": null,
   "metadata": {},
   "outputs": [],
   "source": []
  }
 ],
 "metadata": {
  "kernelspec": {
   "display_name": "Python 3",
   "language": "python",
   "name": "python3"
  },
  "language_info": {
   "codemirror_mode": {
    "name": "ipython",
    "version": 3
   },
   "file_extension": ".py",
   "mimetype": "text/x-python",
   "name": "python",
   "nbconvert_exporter": "python",
   "pygments_lexer": "ipython3",
   "version": "3.7.3"
  }
 },
 "nbformat": 4,
 "nbformat_minor": 4
}

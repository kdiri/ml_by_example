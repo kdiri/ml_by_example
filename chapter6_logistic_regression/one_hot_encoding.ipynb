{
 "cells": [
  {
   "cell_type": "code",
   "execution_count": 2,
   "metadata": {},
   "outputs": [
    {
     "name": "stdout",
     "output_type": "stream",
     "text": [
      "[[0. 0. 1. 1. 0. 0.]\n",
      " [1. 0. 0. 0. 0. 1.]\n",
      " [1. 0. 0. 1. 0. 0.]\n",
      " [0. 1. 0. 0. 0. 1.]\n",
      " [0. 0. 1. 0. 0. 1.]\n",
      " [0. 0. 1. 0. 1. 0.]\n",
      " [0. 1. 0. 1. 0. 0.]]\n"
     ]
    }
   ],
   "source": [
    "from sklearn.feature_extraction import DictVectorizer\n",
    "X_dict = [{'interest': 'tech', 'occupation': 'professional'},\n",
    "{'interest': 'fashion', 'occupation': 'student'},\n",
    "{'interest': 'fashion','occupation':'professional'},\n",
    "{'interest': 'sports', 'occupation': 'student'},\n",
    "{'interest': 'tech', 'occupation': 'student'},\n",
    "{'interest': 'tech', 'occupation': 'retired'},\n",
    "{'interest': 'sports','occupation': 'professional'}]\n",
    "dict_one_hot_encoder = DictVectorizer(sparse=False)\n",
    "X_encoded = dict_one_hot_encoder.fit_transform(X_dict)\n",
    "print(X_encoded)"
   ]
  },
  {
   "cell_type": "code",
   "execution_count": 2,
   "metadata": {},
   "outputs": [
    {
     "name": "stdout",
     "output_type": "stream",
     "text": [
      "{'interest=tech': 2, 'occupation=professional': 3, 'interest=fashion': 0, 'occupation=student': 5, 'interest=sports': 1, 'occupation=retired': 4}\n"
     ]
    }
   ],
   "source": [
    "print(dict_one_hot_encoder.vocabulary_)"
   ]
  },
  {
   "cell_type": "code",
   "execution_count": 3,
   "metadata": {},
   "outputs": [
    {
     "name": "stdout",
     "output_type": "stream",
     "text": [
      "[[0. 1. 0. 0. 1. 0.]]\n"
     ]
    }
   ],
   "source": [
    "new_dict = [{'interest': 'sports', 'occupation': 'retired'}]\n",
    "new_encoded = dict_one_hot_encoder.transform(new_dict)\n",
    "print(new_encoded)"
   ]
  },
  {
   "cell_type": "code",
   "execution_count": 4,
   "metadata": {},
   "outputs": [
    {
     "name": "stdout",
     "output_type": "stream",
     "text": [
      "[{'interest=sports': 1.0, 'occupation=retired': 1.0}]\n"
     ]
    }
   ],
   "source": [
    "print(dict_one_hot_encoder.inverse_transform(new_encoded))"
   ]
  },
  {
   "cell_type": "code",
   "execution_count": 5,
   "metadata": {},
   "outputs": [
    {
     "name": "stdout",
     "output_type": "stream",
     "text": [
      "[[5 1]\n",
      " [0 4]\n",
      " [0 1]\n",
      " [3 4]\n",
      " [5 4]\n",
      " [5 2]\n",
      " [3 1]]\n"
     ]
    }
   ],
   "source": [
    "import numpy as np\n",
    "X_str = np.array([['tech', 'professional'],\n",
    "['fashion', 'student'],\n",
    "['fashion', 'professional'],\n",
    "['sports', 'student'],\n",
    "['tech', 'student'],\n",
    "['tech', 'retired'],\n",
    "['sports', 'professional']])\n",
    "from sklearn.preprocessing import LabelEncoder, OneHotEncoder\n",
    "label_encoder = LabelEncoder()\n",
    "one_hot_encoder = OneHotEncoder()\n",
    "X_int = label_encoder.fit_transform(X_str.ravel()).reshape(*X_str.shape)\n",
    "print(X_int)"
   ]
  },
  {
   "cell_type": "code",
   "execution_count": 6,
   "metadata": {},
   "outputs": [
    {
     "name": "stdout",
     "output_type": "stream",
     "text": [
      "[[0. 0. 1. 1. 0. 0.]\n",
      " [1. 0. 0. 0. 0. 1.]\n",
      " [1. 0. 0. 1. 0. 0.]\n",
      " [0. 1. 0. 0. 0. 1.]\n",
      " [0. 0. 1. 0. 0. 1.]\n",
      " [0. 0. 1. 0. 1. 0.]\n",
      " [0. 1. 0. 1. 0. 0.]]\n"
     ]
    },
    {
     "name": "stderr",
     "output_type": "stream",
     "text": [
      "/Users/kdiri/PycharmProjects/Training/venv/lib/python3.7/site-packages/sklearn/preprocessing/_encoders.py:415: FutureWarning: The handling of integer data will change in version 0.22. Currently, the categories are determined based on the range [0, max(values)], while in the future they will be determined based on the unique values.\n",
      "If you want the future behaviour and silence this warning, you can specify \"categories='auto'\".\n",
      "In case you used a LabelEncoder before this OneHotEncoder to convert the categories to integers, then you can now use the OneHotEncoder directly.\n",
      "  warnings.warn(msg, FutureWarning)\n"
     ]
    }
   ],
   "source": [
    "X_encoded = one_hot_encoder.fit_transform(X_int).toarray()\n",
    "print(X_encoded)"
   ]
  },
  {
   "cell_type": "code",
   "execution_count": 8,
   "metadata": {},
   "outputs": [
    {
     "name": "stdout",
     "output_type": "stream",
     "text": [
      "[[0. 0. 0. 0. 1. 0.]\n",
      " [0. 0. 1. 0. 0. 0.]]\n"
     ]
    }
   ],
   "source": [
    "new_dict = [{\"interest\": \"unknown_interest\", \"occupation\": \"retired\"}, {\"interest\": \"tech\", \"occupation\": \"unseen_occupation\"}]\n",
    "new_encoded = dict_one_hot_encoder.transform(new_dict)\n",
    "print(new_encoded)"
   ]
  },
  {
   "cell_type": "code",
   "execution_count": 9,
   "metadata": {},
   "outputs": [],
   "source": [
    "def str_to_dict(columns, data_str):\n",
    "    columns: list = [\"interest\", \"occupation\"]\n",
    "    data_dict: list = []\n",
    "    for sample_str in data_str:\n",
    "        data_dict.append({column: value for column, value in zip(columns, sample_str)})\n",
    "    return data_dict\n",
    "\n",
    "new_str = np.array([[\"unknown_interest\", \"retired\"], [\"tech\", \"unseen_occupation\"], [\"unknown_interest\", \"unseen_occupation\"]])\n",
    "columns = [\"interest\", \"occupation\"]\n",
    "new_encoded = dict_one_hot_encoder.transform(str_to_dict(columns, new_str))"
   ]
  },
  {
   "cell_type": "code",
   "execution_count": 10,
   "metadata": {},
   "outputs": [
    {
     "name": "stdout",
     "output_type": "stream",
     "text": [
      "[[0. 0. 0. 0. 1. 0.]\n",
      " [0. 0. 1. 0. 0. 0.]\n",
      " [0. 0. 0. 0. 0. 0.]]\n"
     ]
    }
   ],
   "source": [
    "print(new_encoded)"
   ]
  },
  {
   "cell_type": "code",
   "execution_count": null,
   "metadata": {},
   "outputs": [],
   "source": []
  }
 ],
 "metadata": {
  "kernelspec": {
   "display_name": "venv",
   "language": "python",
   "name": "venv"
  },
  "language_info": {
   "codemirror_mode": {
    "name": "ipython",
    "version": 3
   },
   "file_extension": ".py",
   "mimetype": "text/x-python",
   "name": "python",
   "nbconvert_exporter": "python",
   "pygments_lexer": "ipython3",
   "version": "3.7.3"
  }
 },
 "nbformat": 4,
 "nbformat_minor": 4
}

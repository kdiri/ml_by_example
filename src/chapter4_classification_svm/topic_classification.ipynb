{
 "cells": [
  {
   "cell_type": "code",
   "execution_count": 11,
   "metadata": {},
   "outputs": [],
   "source": [
    "from nltk.corpus import names\n",
    "from nltk.stem import WordNetLemmatizer\n",
    "from sklearn.datasets import fetch_20newsgroups\n",
    "from sklearn.svm import SVC\n",
    "from sklearn.feature_extraction.text import TfidfVectorizer\n",
    "\n",
    "\n",
    "tfidf_vectorizer = TfidfVectorizer(sublinear_tf=True, max_df=0.5, stop_words='english', max_features=8000)\n",
    "\n",
    "categories = None\n",
    "all_names = set(names.words())\n",
    "emails, labels = [], []\n",
    "lemmatizer = WordNetLemmatizer()\n",
    "\n",
    "def letters_only(astr): \n",
    "    return astr.isalpha()\n",
    "\n",
    "def clean_text(docs):\n",
    "    cleaned_docs = []\n",
    "    for doc in docs:\n",
    "        cleaned_docs.append(' '.join(lemmatizer.lemmatize(word.lower()) for word in doc.split()\n",
    "                             if letters_only(word) and word not in all_names))\n",
    "        #lowercase everything, isalpha does number and punc. removal, not in all_names removes words\n",
    "    return cleaned_docs\n",
    "\n",
    "data_train = fetch_20newsgroups(subset=\"train\", categories=categories, random_state=42)\n",
    "data_test = fetch_20newsgroups(subset=\"test\", categories=categories, random_state=42)\n",
    "svc_libsvm = SVC(kernel=\"linear\")\n",
    "parameters: dict = {\"C\": (0.1, 1, 10, 100)}\n",
    "cleaned_train = clean_text(data_train.data)\n",
    "label_train = data_train.target\n",
    "cleaned_test = clean_text(data_test.data) \n",
    "label_test = data_test.target\n",
    "term_docs_train = tfidf_vectorizer.fit_transform(cleaned_train) \n",
    "term_docs_test = tfidf_vectorizer.transform(cleaned_test)\n"
   ]
  },
  {
   "cell_type": "code",
   "execution_count": 12,
   "metadata": {},
   "outputs": [],
   "source": [
    "from sklearn.model_selection import GridSearchCV\n",
    "grid_Search = GridSearchCV(svc_libsvm, parameters, n_jobs=-1, cv=3)"
   ]
  },
  {
   "cell_type": "code",
   "execution_count": 13,
   "metadata": {},
   "outputs": [
    {
     "name": "stdout",
     "output_type": "stream",
     "text": [
      "272.458041343\n"
     ]
    }
   ],
   "source": [
    "cleaned_train = clean_text(data_train.data)\n",
    "term_docs_train = tfidf_vectorizer.fit_transform(cleaned_train) \n",
    "import timeit\n",
    "start_time = timeit.default_timer()\n",
    "grid_Search.fit(term_docs_train, label_train)\n",
    "print(timeit.default_timer() - start_time)"
   ]
  },
  {
   "cell_type": "code",
   "execution_count": 15,
   "metadata": {},
   "outputs": [
    {
     "data": {
      "text/plain": [
       "{'C': 10}"
      ]
     },
     "execution_count": 15,
     "metadata": {},
     "output_type": "execute_result"
    }
   ],
   "source": [
    "grid_Search.best_params_"
   ]
  },
  {
   "cell_type": "code",
   "execution_count": null,
   "metadata": {},
   "outputs": [],
   "source": []
  }
 ],
 "metadata": {
  "kernelspec": {
   "display_name": "Python 3",
   "language": "python",
   "name": "python3"
  },
  "language_info": {
   "codemirror_mode": {
    "name": "ipython",
    "version": 3
   },
   "file_extension": ".py",
   "mimetype": "text/x-python",
   "name": "python",
   "nbconvert_exporter": "python",
   "pygments_lexer": "ipython3",
   "version": "3.7.3"
  }
 },
 "nbformat": 4,
 "nbformat_minor": 4
}

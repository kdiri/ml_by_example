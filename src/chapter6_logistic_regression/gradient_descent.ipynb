{
 "cells": [
  {
   "cell_type": "code",
   "execution_count": 1,
   "metadata": {},
   "outputs": [],
   "source": [
    "%run logistic_regression_classifier.ipynb"
   ]
  },
  {
   "cell_type": "code",
   "execution_count": 38,
   "metadata": {},
   "outputs": [],
   "source": [
    "def compute_prediction(X, weights):\n",
    "    \"\"\" \n",
    "        Compute the prediction y_hat based on current weights\n",
    "    Args:\n",
    "        X (numpy.ndarray)\n",
    "        weights (numpy.ndarray) \n",
    "    Returns:\n",
    "        numpy.ndarray, y_hat of X under weights \n",
    "    \"\"\"\n",
    "    z = np.dot(X, weights) \n",
    "    predictions = sigmoid(z)\n",
    "    return predictions"
   ]
  },
  {
   "cell_type": "code",
   "execution_count": 63,
   "metadata": {},
   "outputs": [],
   "source": [
    "def update_weights_gd(X_train, y_train, weights, learning_rate):\n",
    "    \"\"\" \n",
    "        Update weights by one step\n",
    "    Args:\n",
    "        X_train, y_train (numpy.ndarray, training data set) weights (numpy.ndarray)\n",
    "        learning_rate (float)\n",
    "    Returns:\n",
    "        numpy.ndarray, updated weights\n",
    "    \"\"\"\n",
    "    predictions = compute_prediction(X_train, weights) \n",
    "    weights_delta = np.dot(X_train.T, y_train - predictions) \n",
    "    m = y_train.shape[0]\n",
    "    if m ==0:\n",
    "        m = 1\n",
    "    weights += learning_rate / float(m) * weights_delta\n",
    "    return weights"
   ]
  },
  {
   "cell_type": "code",
   "execution_count": 64,
   "metadata": {},
   "outputs": [],
   "source": [
    "def compute_cost(X, y, weights):\n",
    "    \"\"\" \n",
    "        Compute the cost J(w)\n",
    "    Args:\n",
    "        X, y (numpy.ndarray, data set)\n",
    "        weights (numpy.ndarray) \n",
    "    Returns:\n",
    "        float \n",
    "    \"\"\"\n",
    "    predictions = compute_prediction(X, weights) \n",
    "    print(f\"Predictions: {predictions}\\ny: {y}\")\n",
    "    cost = np.mean(-y * np.log(predictions) - (1 - y) * np.log(1 - predictions))\n",
    "    print(f\"Predictions: {cost}\")\n",
    "    return cost"
   ]
  },
  {
   "cell_type": "code",
   "execution_count": 65,
   "metadata": {},
   "outputs": [],
   "source": [
    "def train_logistic_regression(X_train, y_train, max_iter, learning_rate, fit_intercept=False):\n",
    "    \"\"\" \n",
    "    Train a logistic regression model\n",
    "    Args:\n",
    "        X_train, y_train (numpy.ndarray, training data set) max_iter (int, number of iterations)\n",
    "        learning_rate (float)\n",
    "        fit_intercept (bool, with an intercept w0 or not)\n",
    "    Returns:\n",
    "        numpy.ndarray, learned weights\n",
    "    \"\"\"\n",
    "    if fit_intercept:\n",
    "        intercept = np.ones((X_train.shape[0], 1))\n",
    "        X_train = np.hstack((intercept, X_train)) \n",
    "    weights = np.zeros(X_train.shape[1])\n",
    "    for iteration in range(max_iter):\n",
    "        weights = update_weights_gd(X_train, y_train,\n",
    "                                    weights, learning_rate)\n",
    "        # Check the cost for every 100 (for example) iterations\n",
    "        if iteration % 100 == 0:\n",
    "            print(f\"Compute Cost: {compute_cost(X_train, y_train, weights)}\")\n",
    "    return weights"
   ]
  },
  {
   "cell_type": "code",
   "execution_count": 29,
   "metadata": {},
   "outputs": [],
   "source": [
    "def predict(X, weights):\n",
    "    if X.shape[1] == weights.shape[0] - 1: \n",
    "        intercept = np.ones((X.shape[0], 1)) \n",
    "        X = np.hstack((intercept, X))\n",
    "    return compute_prediction(X, weights)"
   ]
  },
  {
   "cell_type": "code",
   "execution_count": 10,
   "metadata": {},
   "outputs": [],
   "source": [
    "X_train = numpy.array([[6, 7],\n",
    "[2, 4],\n",
    "[3, 6],\n",
    "[4, 7],\n",
    "[1, 6],\n",
    "[5, 2],\n",
    "[2, 0],\n",
    "[6, 3],\n",
    "[4, 1],\n",
    "[7, 2]])"
   ]
  },
  {
   "cell_type": "code",
   "execution_count": 9,
   "metadata": {},
   "outputs": [],
   "source": [
    "y_train = np.array([0,\n",
    "0,\n",
    "0,\n",
    "0,\n",
    "0,\n",
    "1,\n",
    "1,\n",
    "1,\n",
    "1,\n",
    "1])"
   ]
  },
  {
   "cell_type": "code",
   "execution_count": 66,
   "metadata": {},
   "outputs": [
    {
     "name": "stdout",
     "output_type": "stream",
     "text": [
      "Predictions: [21.32755716  4.5722252   9.77668041 15.4869851   7.09932707  4.05519997\n",
      "  1.37712776  6.42373677  2.55998142  5.58452846]\n",
      "y: [0 0 0 0 0 1 1 1 1 1]\n",
      "Predictions: nan\n",
      "Compute Cost: nan\n",
      "Predictions: [nan nan nan nan nan nan nan nan nan nan]\n",
      "y: [0 0 0 0 0 1 1 1 1 1]\n",
      "Predictions: nan\n",
      "Compute Cost: nan\n",
      "Predictions: [nan nan nan nan nan nan nan nan nan nan]\n",
      "y: [0 0 0 0 0 1 1 1 1 1]\n",
      "Predictions: nan\n",
      "Compute Cost: nan\n",
      "Predictions: [nan nan nan nan nan nan nan nan nan nan]\n",
      "y: [0 0 0 0 0 1 1 1 1 1]\n",
      "Predictions: nan\n",
      "Compute Cost: nan\n",
      "Predictions: [nan nan nan nan nan nan nan nan nan nan]\n",
      "y: [0 0 0 0 0 1 1 1 1 1]\n",
      "Predictions: nan\n",
      "Compute Cost: nan\n",
      "Predictions: [nan nan nan nan nan nan nan nan nan nan]\n",
      "y: [0 0 0 0 0 1 1 1 1 1]\n",
      "Predictions: nan\n",
      "Compute Cost: nan\n",
      "Predictions: [nan nan nan nan nan nan nan nan nan nan]\n",
      "y: [0 0 0 0 0 1 1 1 1 1]\n",
      "Predictions: nan\n",
      "Compute Cost: nan\n",
      "Predictions: [nan nan nan nan nan nan nan nan nan nan]\n",
      "y: [0 0 0 0 0 1 1 1 1 1]\n",
      "Predictions: nan\n",
      "Compute Cost: nan\n",
      "Predictions: [nan nan nan nan nan nan nan nan nan nan]\n",
      "y: [0 0 0 0 0 1 1 1 1 1]\n",
      "Predictions: nan\n",
      "Compute Cost: nan\n",
      "Predictions: [nan nan nan nan nan nan nan nan nan nan]\n",
      "y: [0 0 0 0 0 1 1 1 1 1]\n",
      "Predictions: nan\n",
      "Compute Cost: nan\n"
     ]
    },
    {
     "name": "stderr",
     "output_type": "stream",
     "text": [
      "/Users/kdiri/PycharmProjects/Training/venv/lib/python3.7/site-packages/ipykernel_launcher.py:12: RuntimeWarning: invalid value encountered in log\n",
      "  if sys.path[0] == '':\n",
      "/Users/kdiri/PycharmProjects/Training/venv/lib/python3.7/site-packages/ipykernel_launcher.py:3: RuntimeWarning: overflow encountered in exp\n",
      "  This is separate from the ipykernel package so we can avoid doing imports until\n",
      "/Users/kdiri/PycharmProjects/Training/venv/lib/python3.7/site-packages/ipykernel_launcher.py:3: RuntimeWarning: divide by zero encountered in true_divide\n",
      "  This is separate from the ipykernel package so we can avoid doing imports until\n"
     ]
    }
   ],
   "source": [
    "weights = train_logistic_regression(X_train, y_train, max_iter=1000, learning_rate=0.1, fit_intercept=False)"
   ]
  },
  {
   "cell_type": "code",
   "execution_count": 41,
   "metadata": {},
   "outputs": [],
   "source": [
    "X_test = np.array([\n",
    "    [6, 1],\n",
    "    [1, 3],\n",
    "    [3, 1],\n",
    "    [4, 5]\n",
    "])"
   ]
  },
  {
   "cell_type": "code",
   "execution_count": null,
   "metadata": {},
   "outputs": [],
   "source": []
  }
 ],
 "metadata": {
  "kernelspec": {
   "display_name": "venv",
   "language": "python",
   "name": "venv"
  },
  "language_info": {
   "codemirror_mode": {
    "name": "ipython",
    "version": 3
   },
   "file_extension": ".py",
   "mimetype": "text/x-python",
   "name": "python",
   "nbconvert_exporter": "python",
   "pygments_lexer": "ipython3",
   "version": "3.7.3"
  }
 },
 "nbformat": 4,
 "nbformat_minor": 4
}
